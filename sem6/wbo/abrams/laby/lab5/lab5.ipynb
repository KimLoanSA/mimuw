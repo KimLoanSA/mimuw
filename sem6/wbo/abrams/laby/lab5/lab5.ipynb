{
 "cells": [
  {
   "cell_type": "code",
   "execution_count": 1,
   "metadata": {},
   "outputs": [],
   "source": [
    "from Bio import Seq\n",
    "from Bio import SeqIO\n",
    "from Bio.SeqIO import parse"
   ]
  },
  {
   "cell_type": "code",
   "execution_count": 2,
   "metadata": {},
   "outputs": [],
   "source": [
    "# task 1"
   ]
  },
  {
   "cell_type": "code",
   "execution_count": 3,
   "metadata": {},
   "outputs": [],
   "source": [
    "histones = list(parse(\"../../histones.fa\", \"fasta\"))"
   ]
  },
  {
   "cell_type": "code",
   "execution_count": 4,
   "metadata": {},
   "outputs": [
    {
     "name": "stdout",
     "output_type": "stream",
     "text": [
      "ID: YDR225W\n",
      "Name: YDR225W\n",
      "Description: YDR225W cdna chromosome:R64-1-1:IV:915530:915928:1 gene:YDR225W gene_biotype:protein_coding transcript_biotype:protein_coding gene_symbol:HTA1 description:Histone H2A; core histone protein required for chromatin assembly and chromosome function; one of two nearly identical subtypes (see also HTA2); DNA damage-dependent phosphorylation by Mec1p facilitates DNA repair; acetylated by Nat4p; N-terminally propionylated in vivo [Source:SGD;Acc:S000002633]\n",
      "Number of features: 0\n",
      "Seq('ATGTCCGGTGGTAAAGGTGGTAAAGCTGGTTCAGCTGCTAAAGCTTCTCAATCT...TAA', SingleLetterAlphabet())\n",
      "ID: YBL003C\n",
      "Name: YBL003C\n",
      "Description: YBL003C cdna chromosome:R64-1-1:II:235394:235792:-1 gene:YBL003C gene_biotype:protein_coding transcript_biotype:protein_coding gene_symbol:HTA2 description:Histone H2A; core histone protein required for chromatin assembly and chromosome function; one of two nearly identical (see also HTA1) subtypes; DNA damage-dependent phosphorylation by Mec1p facilitates DNA repair; acetylated by Nat4p [Source:SGD;Acc:S000000099]\n",
      "Number of features: 0\n",
      "Seq('ATGTCCGGTGGTAAAGGTGGTAAAGCTGGTTCAGCTGCTAAAGCTTCTCAATCT...TAA', SingleLetterAlphabet())\n",
      "ID: YNL031C\n",
      "Name: YNL031C\n",
      "Description: YNL031C cdna chromosome:R64-1-1:XIV:575640:576050:-1 gene:YNL031C gene_biotype:protein_coding transcript_biotype:protein_coding gene_symbol:HHT2 description:Histone H3; core histone protein required for chromatin assembly, part of heterochromatin-mediated telomeric and HM silencing; one of two identical histone H3 proteins (see HHT1); regulated by acetylation, methylation, and phosphorylation; H3K14 acetylation plays an important role in the unfolding of strongly positioned nucleosomes during repair of UV damage [Source:SGD;Acc:S000004976]\n",
      "Number of features: 0\n",
      "Seq('ATGGCCAGAACTAAACAAACAGCTAGAAAATCCACTGGTGGTAAAGCCCCAAGA...TGA', SingleLetterAlphabet())\n",
      "ID: YBR010W\n",
      "Name: YBR010W\n",
      "Description: YBR010W cdna chromosome:R64-1-1:II:256331:256741:1 gene:YBR010W gene_biotype:protein_coding transcript_biotype:protein_coding gene_symbol:HHT1 description:Histone H3; core histone protein required for chromatin assembly, part of heterochromatin-mediated telomeric and HM silencing; one of two identical histone H3 proteins (see HHT2); regulated by acetylation, methylation, and phosphorylation; H3K14 acetylation plays an important role in the unfolding of strongly positioned nucleosomes during repair of UV damage [Source:SGD;Acc:S000000214]\n",
      "Number of features: 0\n",
      "Seq('ATGGCCAGAACAAAGCAAACAGCAAGAAAGTCCACTGGTGGTAAGGCCCCAAGA...TAG', SingleLetterAlphabet())\n",
      "ID: YDR224C\n",
      "Name: YDR224C\n",
      "Description: YDR224C cdna chromosome:R64-1-1:IV:914317:914712:-1 gene:YDR224C gene_biotype:protein_coding transcript_biotype:protein_coding gene_symbol:HTB1 description:Histone H2B; core histone protein required for chromatin assembly and chromosome function; nearly identical to HTB2; Rad6p-Bre1p-Lge1p mediated ubiquitination regulates reassembly after DNA replication, transcriptional activation, meiotic DSB formation and H3 methylation [Source:SGD;Acc:S000002632]\n",
      "Number of features: 0\n",
      "Seq('ATGTCTGCTAAAGCCGAAAAGAAACCAGCCTCCAAAGCCCCAGCTGAAAAGAAA...TAA', SingleLetterAlphabet())\n",
      "ID: YBR009C\n",
      "Name: YBR009C\n",
      "Description: YBR009C cdna chromosome:R64-1-1:II:255373:255684:-1 gene:YBR009C gene_biotype:protein_coding transcript_biotype:protein_coding gene_symbol:HHF1 description:Histone H4; core histone protein required for chromatin assembly and chromosome function; one of two identical histone proteins (see also HHF2); contributes to telomeric silencing; N-terminal domain involved in maintaining genomic integrity [Source:SGD;Acc:S000000213]\n",
      "Number of features: 0\n",
      "Seq('ATGTCCGGTAGAGGTAAAGGTGGTAAAGGTCTAGGTAAAGGTGGTGCCAAGCGT...TAA', SingleLetterAlphabet())\n",
      "ID: YBL002W\n",
      "Name: YBL002W\n",
      "Description: YBL002W cdna chromosome:R64-1-1:II:236492:236887:1 gene:YBL002W gene_biotype:protein_coding transcript_biotype:protein_coding gene_symbol:HTB2 description:Histone H2B; core histone protein required for chromatin assembly and chromosome function; nearly identical to HTB1; Rad6p-Bre1p-Lge1p mediated ubiquitination regulates reassembly after DNA replication, transcriptional activation, meiotic DSB formation and H3 methylation [Source:SGD;Acc:S000000098]\n",
      "Number of features: 0\n",
      "Seq('ATGTCCTCTGCCGCCGAAAAGAAACCAGCTTCCAAAGCTCCAGCTGAAAAGAAG...TAA', SingleLetterAlphabet())\n",
      "ID: YNL030W\n",
      "Name: YNL030W\n",
      "Description: YNL030W cdna chromosome:R64-1-1:XIV:576727:577038:1 gene:YNL030W gene_biotype:protein_coding transcript_biotype:protein_coding gene_symbol:HHF2 description:Histone H4; core histone protein required for chromatin assembly and chromosome function; one of two identical histone proteins (see also HHF1); contributes to telomeric silencing; N-terminal domain involved in maintaining genomic integrity [Source:SGD;Acc:S000004975]\n",
      "Number of features: 0\n",
      "Seq('ATGTCCGGTAGAGGTAAAGGTGGTAAAGGTCTAGGAAAAGGTGGTGCCAAGCGT...TAA', SingleLetterAlphabet())\n"
     ]
    }
   ],
   "source": [
    "for seq in histones:\n",
    "    print(seq)"
   ]
  },
  {
   "cell_type": "code",
   "execution_count": 5,
   "metadata": {},
   "outputs": [],
   "source": [
    "translated_histones = list(map(\n",
    "    lambda seq: seq.translate(id=seq.id, name=seq.name, description=seq.description,stop_symbol=\"\"), histones))"
   ]
  },
  {
   "cell_type": "code",
   "execution_count": 6,
   "metadata": {},
   "outputs": [
    {
     "name": "stdout",
     "output_type": "stream",
     "text": [
      "ID: YDR225W\n",
      "Name: YDR225W\n",
      "Description: YDR225W cdna chromosome:R64-1-1:IV:915530:915928:1 gene:YDR225W gene_biotype:protein_coding transcript_biotype:protein_coding gene_symbol:HTA1 description:Histone H2A; core histone protein required for chromatin assembly and chromosome function; one of two nearly identical subtypes (see also HTA2); DNA damage-dependent phosphorylation by Mec1p facilitates DNA repair; acetylated by Nat4p; N-terminally propionylated in vivo [Source:SGD;Acc:S000002633]\n",
      "Number of features: 0\n",
      "Seq('MSGGKGGKAGSAAKASQSRSAKAGLTFPVGRVHRLLRRGNYAQRIGSGAPVYLT...QEL', HasStopCodon(ExtendedIUPACProtein(), ''))\n",
      "ID: YBL003C\n",
      "Name: YBL003C\n",
      "Description: YBL003C cdna chromosome:R64-1-1:II:235394:235792:-1 gene:YBL003C gene_biotype:protein_coding transcript_biotype:protein_coding gene_symbol:HTA2 description:Histone H2A; core histone protein required for chromatin assembly and chromosome function; one of two nearly identical (see also HTA1) subtypes; DNA damage-dependent phosphorylation by Mec1p facilitates DNA repair; acetylated by Nat4p [Source:SGD;Acc:S000000099]\n",
      "Number of features: 0\n",
      "Seq('MSGGKGGKAGSAAKASQSRSAKAGLTFPVGRVHRLLRRGNYAQRIGSGAPVYLT...QEL', HasStopCodon(ExtendedIUPACProtein(), ''))\n",
      "ID: YNL031C\n",
      "Name: YNL031C\n",
      "Description: YNL031C cdna chromosome:R64-1-1:XIV:575640:576050:-1 gene:YNL031C gene_biotype:protein_coding transcript_biotype:protein_coding gene_symbol:HHT2 description:Histone H3; core histone protein required for chromatin assembly, part of heterochromatin-mediated telomeric and HM silencing; one of two identical histone H3 proteins (see HHT1); regulated by acetylation, methylation, and phosphorylation; H3K14 acetylation plays an important role in the unfolding of strongly positioned nucleosomes during repair of UV damage [Source:SGD;Acc:S000004976]\n",
      "Number of features: 0\n",
      "Seq('MARTKQTARKSTGGKAPRKQLASKAARKSAPSTGGVKKPHRYKPGTVALREIRR...ERS', HasStopCodon(ExtendedIUPACProtein(), ''))\n",
      "ID: YBR010W\n",
      "Name: YBR010W\n",
      "Description: YBR010W cdna chromosome:R64-1-1:II:256331:256741:1 gene:YBR010W gene_biotype:protein_coding transcript_biotype:protein_coding gene_symbol:HHT1 description:Histone H3; core histone protein required for chromatin assembly, part of heterochromatin-mediated telomeric and HM silencing; one of two identical histone H3 proteins (see HHT2); regulated by acetylation, methylation, and phosphorylation; H3K14 acetylation plays an important role in the unfolding of strongly positioned nucleosomes during repair of UV damage [Source:SGD;Acc:S000000214]\n",
      "Number of features: 0\n",
      "Seq('MARTKQTARKSTGGKAPRKQLASKAARKSAPSTGGVKKPHRYKPGTVALREIRR...ERS', HasStopCodon(ExtendedIUPACProtein(), ''))\n",
      "ID: YDR224C\n",
      "Name: YDR224C\n",
      "Description: YDR224C cdna chromosome:R64-1-1:IV:914317:914712:-1 gene:YDR224C gene_biotype:protein_coding transcript_biotype:protein_coding gene_symbol:HTB1 description:Histone H2B; core histone protein required for chromatin assembly and chromosome function; nearly identical to HTB2; Rad6p-Bre1p-Lge1p mediated ubiquitination regulates reassembly after DNA replication, transcriptional activation, meiotic DSB formation and H3 methylation [Source:SGD;Acc:S000002632]\n",
      "Number of features: 0\n",
      "Seq('MSAKAEKKPASKAPAEKKPAAKKTSTSTDGKKRSKARKETYSSYIYKVLKQTHP...TQA', HasStopCodon(ExtendedIUPACProtein(), ''))\n",
      "ID: YBR009C\n",
      "Name: YBR009C\n",
      "Description: YBR009C cdna chromosome:R64-1-1:II:255373:255684:-1 gene:YBR009C gene_biotype:protein_coding transcript_biotype:protein_coding gene_symbol:HHF1 description:Histone H4; core histone protein required for chromatin assembly and chromosome function; one of two identical histone proteins (see also HHF2); contributes to telomeric silencing; N-terminal domain involved in maintaining genomic integrity [Source:SGD;Acc:S000000213]\n",
      "Number of features: 0\n",
      "Seq('MSGRGKGGKGLGKGGAKRHRKILRDNIQGITKPAIRRLARRGGVKRISGLIYEE...FGG', HasStopCodon(ExtendedIUPACProtein(), ''))\n",
      "ID: YBL002W\n",
      "Name: YBL002W\n",
      "Description: YBL002W cdna chromosome:R64-1-1:II:236492:236887:1 gene:YBL002W gene_biotype:protein_coding transcript_biotype:protein_coding gene_symbol:HTB2 description:Histone H2B; core histone protein required for chromatin assembly and chromosome function; nearly identical to HTB1; Rad6p-Bre1p-Lge1p mediated ubiquitination regulates reassembly after DNA replication, transcriptional activation, meiotic DSB formation and H3 methylation [Source:SGD;Acc:S000000098]\n",
      "Number of features: 0\n",
      "Seq('MSSAAEKKPASKAPAEKKPAAKKTSTSVDGKKRSKVRKETYSSYIYKVLKQTHP...TQA', HasStopCodon(ExtendedIUPACProtein(), ''))\n",
      "ID: YNL030W\n",
      "Name: YNL030W\n",
      "Description: YNL030W cdna chromosome:R64-1-1:XIV:576727:577038:1 gene:YNL030W gene_biotype:protein_coding transcript_biotype:protein_coding gene_symbol:HHF2 description:Histone H4; core histone protein required for chromatin assembly and chromosome function; one of two identical histone proteins (see also HHF1); contributes to telomeric silencing; N-terminal domain involved in maintaining genomic integrity [Source:SGD;Acc:S000004975]\n",
      "Number of features: 0\n",
      "Seq('MSGRGKGGKGLGKGGAKRHRKILRDNIQGITKPAIRRLARRGGVKRISGLIYEE...FGG', HasStopCodon(ExtendedIUPACProtein(), ''))\n"
     ]
    }
   ],
   "source": [
    "for seq in translated_histones:\n",
    "    print(seq)"
   ]
  },
  {
   "cell_type": "code",
   "execution_count": 8,
   "metadata": {},
   "outputs": [],
   "source": [
    "with open(\"output/translated_histones.fa\", \"w\") as output_handle:\n",
    "    SeqIO.write(translated_histones, output_handle, \"fasta\")"
   ]
  },
  {
   "cell_type": "code",
   "execution_count": 9,
   "metadata": {},
   "outputs": [],
   "source": [
    "# task 2"
   ]
  },
  {
   "cell_type": "code",
   "execution_count": 10,
   "metadata": {},
   "outputs": [],
   "source": [
    "from Bio import AlignIO\n",
    "from Bio import Phylo\n",
    "from Bio.Align.Applications import ClustalwCommandline"
   ]
  },
  {
   "cell_type": "code",
   "execution_count": 13,
   "metadata": {},
   "outputs": [],
   "source": [
    "clustalw = ClustalwCommandline(infile=\"output/translated_histones.fa\")"
   ]
  },
  {
   "cell_type": "code",
   "execution_count": 14,
   "metadata": {},
   "outputs": [
    {
     "data": {
      "text/plain": [
       "('\\n\\n\\n CLUSTAL 2.1 Multiple Sequence Alignments\\n\\n\\nSequence format is Pearson\\nSequence 1: YDR225W      132 aa\\nSequence 2: YBL003C      132 aa\\nSequence 3: YNL031C      136 aa\\nSequence 4: YBR010W      136 aa\\nSequence 5: YDR224C      131 aa\\nSequence 6: YBR009C      103 aa\\nSequence 7: YBL002W      131 aa\\nSequence 8: YNL030W      103 aa\\nStart of Pairwise alignments\\nAligning...\\n\\nSequences (1:2) Aligned. Score:  98\\nSequences (1:3) Aligned. Score:  17\\nSequences (1:4) Aligned. Score:  17\\nSequences (1:5) Aligned. Score:  12\\nSequences (1:6) Aligned. Score:  17\\nSequences (1:7) Aligned. Score:  10\\nSequences (1:8) Aligned. Score:  17\\nSequences (2:3) Aligned. Score:  17\\nSequences (2:4) Aligned. Score:  17\\nSequences (2:5) Aligned. Score:  12\\nSequences (2:6) Aligned. Score:  17\\nSequences (2:7) Aligned. Score:  10\\nSequences (2:8) Aligned. Score:  17\\nSequences (3:4) Aligned. Score:  100\\nSequences (3:5) Aligned. Score:  17\\nSequences (3:6) Aligned. Score:  24\\nSequences (3:7) Aligned. Score:  16\\nSequences (3:8) Aligned. Score:  24\\nSequences (4:5) Aligned. Score:  17\\nSequences (4:6) Aligned. Score:  24\\nSequences (4:7) Aligned. Score:  16\\nSequences (4:8) Aligned. Score:  24\\nSequences (5:6) Aligned. Score:  3\\nSequences (5:7) Aligned. Score:  96\\nSequences (5:8) Aligned. Score:  3\\nSequences (6:7) Aligned. Score:  8\\nSequences (6:8) Aligned. Score:  100\\nSequences (7:8) Aligned. Score:  8\\nGuide tree file created:   [output/translated_histones.dnd]\\n\\nThere are 7 groups\\nStart of Multiple Alignment\\n\\nAligning...\\nGroup 1: Sequences:   2      Score:2793\\nGroup 2: Sequences:   2      Score:2208\\nGroup 3: Sequences:   2      Score:2895\\nGroup 4: Sequences:   4      Score:834\\nGroup 5: Sequences:   6      Score:791\\nGroup 6: Sequences:   2      Score:2740\\nGroup 7: Sequences:   8      Score:797\\nAlignment Score 2422\\n\\nCLUSTAL-Alignment file created  [output/translated_histones.aln]\\n\\n',\n",
       " '')"
      ]
     },
     "execution_count": 14,
     "metadata": {},
     "output_type": "execute_result"
    }
   ],
   "source": [
    "clustalw()"
   ]
  },
  {
   "cell_type": "code",
   "execution_count": 15,
   "metadata": {},
   "outputs": [],
   "source": [
    "translated_histones_alignments = AlignIO.read(\"output/translated_histones.aln\", \"clustal\")"
   ]
  },
  {
   "cell_type": "code",
   "execution_count": 16,
   "metadata": {},
   "outputs": [
    {
     "name": "stdout",
     "output_type": "stream",
     "text": [
      "SingleLetterAlphabet() alignment with 8 rows and 148 columns\n",
      "------MSG-GKGGKAGSAAKASQSRSAKAGLTFPVGRVHRLLR...QEL YDR225W\n",
      "------MSG-GKGGKAGSAAKASQSRSAKAGLTFPVGRVHRLLR...QEL YBL003C\n",
      "------MSGRGKGGKGLGKGGAKRHRKILRDNIQGITKP-----...GG- YBR009C\n",
      "------MSGRGKGGKGLGKGGAKRHRKILRDNIQGITKP-----...GG- YNL030W\n",
      "MARTKQTARKSTGGKAPRKQLASKAARKSAPSTGGVKKPHRYKP...--- YNL031C\n",
      "MARTKQTARKSTGGKAPRKQLASKAARKSAPSTGGVKKPHRYKP...--- YBR010W\n",
      "------MSAKAEKKPASKAPAEKKPAAKKTSTSTDGKKRSKARK...QA- YDR224C\n",
      "------MSSAAEKKPASKAPAEKKPAAKKTSTSVDGKKRSKVRK...QA- YBL002W\n"
     ]
    }
   ],
   "source": [
    "print(translated_histones_alignments)"
   ]
  },
  {
   "cell_type": "code",
   "execution_count": 17,
   "metadata": {},
   "outputs": [],
   "source": [
    "translated_histones_tree = Phylo.read(\"output/translated_histones.dnd\", \"newick\")"
   ]
  },
  {
   "cell_type": "code",
   "execution_count": 18,
   "metadata": {},
   "outputs": [
    {
     "name": "stdout",
     "output_type": "stream",
     "text": [
      "Tree(rooted=False, weight=1.0)\n",
      "    Clade()\n",
      "        Clade(branch_length=0.03455)\n",
      "            Clade(branch_length=0.40473)\n",
      "                Clade(branch_length=0.00758, name='YDR225W')\n",
      "                Clade(branch_length=0.00758, name='YBL003C')\n",
      "            Clade(branch_length=0.45411)\n",
      "                Clade(branch_length=0.01827, name='YDR224C')\n",
      "                Clade(branch_length=0.01227, name='YBL002W')\n",
      "        Clade(branch_length=0.35161)\n",
      "            Clade(branch_length=0.0, name='YNL031C')\n",
      "            Clade(branch_length=0.0, name='YBR010W')\n",
      "        Clade(branch_length=0.40567)\n",
      "            Clade(branch_length=0.0, name='YBR009C')\n",
      "            Clade(branch_length=0.0, name='YNL030W')\n"
     ]
    }
   ],
   "source": [
    "print(translated_histones_tree)"
   ]
  },
  {
   "cell_type": "code",
   "execution_count": 19,
   "metadata": {},
   "outputs": [],
   "source": [
    "# task 3"
   ]
  },
  {
   "cell_type": "code",
   "execution_count": 20,
   "metadata": {},
   "outputs": [],
   "source": [
    "from Bio.Align.Applications import MuscleCommandline"
   ]
  },
  {
   "cell_type": "code",
   "execution_count": 21,
   "metadata": {},
   "outputs": [],
   "source": [
    "muscle = MuscleCommandline(input=\"output/translated_histones.fa\", out=\"output/histones_aligned.fa\")"
   ]
  },
  {
   "cell_type": "code",
   "execution_count": 22,
   "metadata": {},
   "outputs": [
    {
     "data": {
      "text/plain": [
       "('',\n",
       " '\\nMUSCLE v3.8.31 by Robert C. Edgar\\n\\nhttp://www.drive5.com/muscle\\nThis software is donated to the public domain.\\nPlease cite: Edgar, R.C. Nucleic Acids Res 32(5), 1792-97.\\n\\ntranslated_histones 8 seqs, max length 136, avg  length 125\\n00:00:00    23 MB(-3%)  Iter   1    2.78%  K-mer dist pass 1\\n00:00:00    23 MB(-3%)  Iter   1  100.00%  K-mer dist pass 1\\n00:00:00    23 MB(-3%)  Iter   1    2.78%  K-mer dist pass 2\\n00:00:00    23 MB(-3%)  Iter   1  100.00%  K-mer dist pass 2\\n00:00:00    23 MB(-3%)  Iter   1   14.29%  Align node       \\n00:00:00    24 MB(-3%)  Iter   1   28.57%  Align node\\n00:00:00    24 MB(-3%)  Iter   1   42.86%  Align node\\n00:00:00    24 MB(-3%)  Iter   1   57.14%  Align node\\n00:00:00    25 MB(-3%)  Iter   1   71.43%  Align node\\n00:00:00    25 MB(-3%)  Iter   1   85.71%  Align node\\n00:00:00    25 MB(-3%)  Iter   1  100.00%  Align node\\n00:00:00    25 MB(-3%)  Iter   1  100.00%  Align node\\n00:00:00    25 MB(-3%)  Iter   1   12.50%  Root alignment\\n00:00:00    25 MB(-3%)  Iter   1   25.00%  Root alignment\\n00:00:00    25 MB(-3%)  Iter   1   37.50%  Root alignment\\n00:00:00    25 MB(-3%)  Iter   1   50.00%  Root alignment\\n00:00:00    25 MB(-3%)  Iter   1   62.50%  Root alignment\\n00:00:00    25 MB(-3%)  Iter   1   75.00%  Root alignment\\n00:00:00    25 MB(-3%)  Iter   1   87.50%  Root alignment\\n00:00:00    25 MB(-3%)  Iter   1  100.00%  Root alignment\\n00:00:00    25 MB(-3%)  Iter   1  100.00%  Root alignment\\n00:00:00    25 MB(-3%)  Iter   2   16.67%  Refine tree   \\n00:00:00    25 MB(-3%)  Iter   2   33.33%  Refine tree\\n00:00:00    25 MB(-3%)  Iter   2  100.00%  Refine tree\\n00:00:00    25 MB(-3%)  Iter   2   12.50%  Root alignment\\n00:00:00    25 MB(-3%)  Iter   2   25.00%  Root alignment\\n00:00:00    25 MB(-3%)  Iter   2   37.50%  Root alignment\\n00:00:00    25 MB(-3%)  Iter   2   50.00%  Root alignment\\n00:00:00    25 MB(-3%)  Iter   2   62.50%  Root alignment\\n00:00:00    25 MB(-3%)  Iter   2   75.00%  Root alignment\\n00:00:00    25 MB(-3%)  Iter   2   87.50%  Root alignment\\n00:00:00    25 MB(-3%)  Iter   2  100.00%  Root alignment\\n00:00:00    25 MB(-3%)  Iter   2  100.00%  Root alignment\\n00:00:00    25 MB(-3%)  Iter   2  100.00%  Root alignment\\n00:00:00    25 MB(-3%)  Iter   3   15.38%  Refine biparts\\n00:00:00    25 MB(-3%)  Iter   3   23.08%  Refine biparts\\n00:00:00    25 MB(-3%)  Iter   3   30.77%  Refine biparts\\n00:00:00    25 MB(-3%)  Iter   3   38.46%  Refine biparts\\n00:00:00    25 MB(-3%)  Iter   3   46.15%  Refine biparts\\n00:00:00    25 MB(-3%)  Iter   3   53.85%  Refine biparts\\n00:00:00    25 MB(-3%)  Iter   3   61.54%  Refine biparts\\n00:00:00    25 MB(-3%)  Iter   3   69.23%  Refine biparts\\n00:00:00    25 MB(-3%)  Iter   3   76.92%  Refine biparts\\n00:00:00    25 MB(-3%)  Iter   3   84.62%  Refine biparts\\n00:00:00    25 MB(-3%)  Iter   3   92.31%  Refine biparts\\n00:00:00    25 MB(-3%)  Iter   3  100.00%  Refine biparts\\n00:00:00    25 MB(-3%)  Iter   3  107.69%  Refine biparts\\n00:00:00    25 MB(-3%)  Iter   3  100.00%  Refine biparts\\n00:00:00    25 MB(-3%)  Iter   4   15.38%  Refine biparts\\n00:00:00    25 MB(-3%)  Iter   4   23.08%  Refine biparts\\n00:00:00    25 MB(-3%)  Iter   4   30.77%  Refine biparts\\n00:00:00    25 MB(-3%)  Iter   4   38.46%  Refine biparts\\n00:00:00    25 MB(-3%)  Iter   4   46.15%  Refine biparts\\n00:00:00    25 MB(-3%)  Iter   4   53.85%  Refine biparts\\n00:00:00    25 MB(-3%)  Iter   4   61.54%  Refine biparts\\n00:00:00    25 MB(-3%)  Iter   4   69.23%  Refine biparts\\n00:00:00    25 MB(-3%)  Iter   4   76.92%  Refine biparts\\n00:00:00    25 MB(-3%)  Iter   4   84.62%  Refine biparts\\n00:00:00    25 MB(-3%)  Iter   4   92.31%  Refine biparts\\n00:00:00    25 MB(-3%)  Iter   4  100.00%  Refine biparts\\n00:00:00    25 MB(-3%)  Iter   4  107.69%  Refine biparts\\n00:00:00    25 MB(-3%)  Iter   4  100.00%  Refine biparts\\n00:00:00    25 MB(-3%)  Iter   5   15.38%  Refine biparts\\n00:00:00    25 MB(-3%)  Iter   5  100.00%  Refine biparts\\n00:00:00    25 MB(-3%)  Iter   5  100.00%  Refine biparts\\n')"
      ]
     },
     "execution_count": 22,
     "metadata": {},
     "output_type": "execute_result"
    }
   ],
   "source": [
    "muscle()"
   ]
  },
  {
   "cell_type": "code",
   "execution_count": 23,
   "metadata": {},
   "outputs": [],
   "source": [
    "muscle_translated_histones_alignments = AlignIO.read(\"output/histones_aligned.fa\", \"fasta\")"
   ]
  },
  {
   "cell_type": "code",
   "execution_count": 24,
   "metadata": {},
   "outputs": [],
   "source": [
    "# task 4"
   ]
  },
  {
   "cell_type": "code",
   "execution_count": 25,
   "metadata": {},
   "outputs": [],
   "source": [
    "from Bio.Phylo.TreeConstruction import DistanceCalculator\n",
    "from Bio.Phylo.TreeConstruction import DistanceTreeConstructor"
   ]
  },
  {
   "cell_type": "code",
   "execution_count": 26,
   "metadata": {},
   "outputs": [],
   "source": [
    "calculator = DistanceCalculator('blosum62')"
   ]
  },
  {
   "cell_type": "code",
   "execution_count": 27,
   "metadata": {},
   "outputs": [],
   "source": [
    "dtc = DistanceTreeConstructor(calculator, method=\"nj\")"
   ]
  },
  {
   "cell_type": "code",
   "execution_count": 28,
   "metadata": {},
   "outputs": [
    {
     "name": "stdout",
     "output_type": "stream",
     "text": [
      "Tree(rooted=False)\n",
      "    Clade(branch_length=0, name='Inner6')\n",
      "        Clade(branch_length=0.4761876612205521, name='Inner2')\n",
      "            Clade(branch_length=0.008833858944954143, name='YDR225W')\n",
      "            Clade(branch_length=0.004927608944954143, name='YBL003C')\n",
      "        Clade(branch_length=0.0859944482571462, name='Inner5')\n",
      "            Clade(branch_length=0.4154594548522553, name='Inner3')\n",
      "                Clade(branch_length=0.0, name='YBR010W')\n",
      "                Clade(branch_length=0.0, name='YNL031C')\n",
      "            Clade(branch_length=0.40758581263745663, name='Inner4')\n",
      "                Clade(branch_length=0.0, name='YNL030W')\n",
      "                Clade(branch_length=0.0, name='YBR009C')\n",
      "        Clade(branch_length=0.5625149442430137, name='Inner1')\n",
      "            Clade(branch_length=0.01631579517908066, name='YBL002W')\n",
      "            Clade(branch_length=0.011897370965120002, name='YDR224C')\n"
     ]
    }
   ],
   "source": [
    "clustalw_tree = dtc.build_tree(translated_histones_alignments)\n",
    "print(clustalw_tree)"
   ]
  },
  {
   "cell_type": "code",
   "execution_count": 29,
   "metadata": {},
   "outputs": [
    {
     "name": "stdout",
     "output_type": "stream",
     "text": [
      "Tree(rooted=False)\n",
      "    Clade(branch_length=0, name='Inner6')\n",
      "        Clade(branch_length=0.34686480787875923, name='Inner4')\n",
      "            Clade(branch_length=0.0, name='YNL031C')\n",
      "            Clade(branch_length=0.0, name='YBR010W')\n",
      "        Clade(branch_length=0.048138805630008275, name='Inner5')\n",
      "            Clade(branch_length=0.40101364203892065, name='Inner3')\n",
      "                Clade(branch_length=0.006373634553473395, name='YBL003C')\n",
      "                Clade(branch_length=0.00738783333643489, name='YDR225W')\n",
      "            Clade(branch_length=0.43997580657190616, name='Inner1')\n",
      "                Clade(branch_length=0.0, name='YNL030W')\n",
      "                Clade(branch_length=0.0, name='YBR009C')\n",
      "        Clade(branch_length=0.43469466097139897, name='Inner2')\n",
      "            Clade(branch_length=0.013202179584099749, name='YBL002W')\n",
      "            Clade(branch_length=0.015010986560100914, name='YDR224C')\n"
     ]
    }
   ],
   "source": [
    "muscle_tree = dtc.build_tree(muscle_translated_histones_alignments)\n",
    "print(muscle_tree)"
   ]
  }
 ],
 "metadata": {
  "kernelspec": {
   "display_name": "Python 3",
   "language": "python",
   "name": "python3"
  },
  "language_info": {
   "codemirror_mode": {
    "name": "ipython",
    "version": 3
   },
   "file_extension": ".py",
   "mimetype": "text/x-python",
   "name": "python",
   "nbconvert_exporter": "python",
   "pygments_lexer": "ipython3",
   "version": "3.5.2"
  }
 },
 "nbformat": 4,
 "nbformat_minor": 2
}
